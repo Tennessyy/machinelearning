{
 "cells": [
  {
   "cell_type": "code",
   "execution_count": 21,
   "metadata": {
    "collapsed": true
   },
   "outputs": [],
   "source": [
    "import numpy as np"
   ]
  },
  {
   "cell_type": "code",
   "execution_count": 11,
   "metadata": {
    "collapsed": false
   },
   "outputs": [],
   "source": [
    "f = open('./smsspamcollection/SMSSpamCollection.txt')\n",
    "classes = []\n",
    "msgs = []\n",
    "classnames = ['ham', 'spam']\n",
    "for line in f.readlines():\n",
    "    splitted = line.split('\\t')\n",
    "    classes.append(0 if splitted[0] == 'ham' else 1)\n",
    "    msgs.append(splitted[1].translate(None, '\\n').lower())"
   ]
  },
  {
   "cell_type": "code",
   "execution_count": 13,
   "metadata": {
    "collapsed": false
   },
   "outputs": [
    {
     "data": {
      "text/plain": [
       "([0, 0, 1, 0, 0],\n",
       " ['go until jurong point, crazy.. available only in bugis n great world la e buffet... cine there got amore wat...',\n",
       "  'ok lar... joking wif u oni...',\n",
       "  \"free entry in 2 a wkly comp to win fa cup final tkts 21st may 2005. text fa to 87121 to receive entry question(std txt rate)t&c's apply 08452810075over18's\",\n",
       "  'u dun say so early hor... u c already then say...',\n",
       "  \"nah i don't think he goes to usf, he lives around here though\"])"
      ]
     },
     "execution_count": 13,
     "metadata": {},
     "output_type": "execute_result"
    }
   ],
   "source": [
    "(classes[0:5],msgs[0:5])"
   ]
  },
  {
   "cell_type": "code",
   "execution_count": 86,
   "metadata": {
    "collapsed": true
   },
   "outputs": [],
   "source": [
    "from sklearn.feature_extraction.text import CountVectorizer, TfidfVectorizer\n",
    "from sklearn.pipeline import Pipeline\n",
    "from sklearn.linear_model import LogisticRegression\n",
    "from sklearn.cross_validation import cross_val_score"
   ]
  },
  {
   "cell_type": "code",
   "execution_count": 90,
   "metadata": {
    "collapsed": false
   },
   "outputs": [],
   "source": [
    "pipeline = Pipeline([('cv', CountVectorizer()), ('logistic_reg', LogisticRegression())])\n",
    "model = pipeline.fit(X=msgs, y=classes)\n",
    "np.random.seed(2)"
   ]
  },
  {
   "cell_type": "code",
   "execution_count": 91,
   "metadata": {
    "collapsed": false
   },
   "outputs": [],
   "source": [
    "cv = cross_val_score(pipeline, X=msgs, y=classes, cv = 10, scoring='f1')"
   ]
  },
  {
   "cell_type": "code",
   "execution_count": 89,
   "metadata": {
    "collapsed": false
   },
   "outputs": [
    {
     "name": "stdout",
     "output_type": "stream",
     "text": [
      "[ 0.89051095  0.86764706  0.86567164  0.90510949  0.88888889  0.88059701\n",
      "  0.83969466  0.86363636  0.86363636  0.91970803]\n"
     ]
    }
   ],
   "source": [
    "print cv"
   ]
  },
  {
   "cell_type": "code",
   "execution_count": 95,
   "metadata": {
    "collapsed": false
   },
   "outputs": [
    {
     "name": "stdout",
     "output_type": "stream",
     "text": [
      "[ 0.96598639  0.89855072  0.91549296  0.95833333  0.93706294  0.91304348\n",
      "  0.94444444  0.92753623  0.92198582  0.95104895]\n"
     ]
    }
   ],
   "source": [
    "print cv\n",
    "write('fifth.txt',\"-1\")"
   ]
  },
  {
   "cell_type": "code",
   "execution_count": 62,
   "metadata": {
    "collapsed": true
   },
   "outputs": [],
   "source": [
    "def write(fname, msg, ft = None):\n",
    "    f = open(fname, \"w\")\n",
    "    if(ft is not None):\n",
    "        f.write(ft%msg)\n",
    "    else:\n",
    "        f.write(msg)\n",
    "    f.close()"
   ]
  },
  {
   "cell_type": "code",
   "execution_count": 40,
   "metadata": {
    "collapsed": false
   },
   "outputs": [],
   "source": [
    "write('first.txt', cv.mean(), '%.1lf')"
   ]
  },
  {
   "cell_type": "code",
   "execution_count": 41,
   "metadata": {
    "collapsed": true
   },
   "outputs": [],
   "source": [
    "to_test = [\"FreeMsg: Txt: CALL to No: 86888 & claim your reward of 3 hours talk time to use from your phone now! Subscribe6GB\",\n",
    "    \"FreeMsg: Txt: claim your reward of 3 hours talk time\",\n",
    "    \"Have you visited the last lecture on physics?\",\n",
    "    \"Have you visited the last lecture on physics? Just buy this book and you will have all materials! Only 99$\",\n",
    "    \"Only 99$\"]"
   ]
  },
  {
   "cell_type": "code",
   "execution_count": 67,
   "metadata": {
    "collapsed": false
   },
   "outputs": [],
   "source": [
    "write('second.txt', ' '.join([str(i) for i in model.predict(to_test)]))"
   ]
  },
  {
   "cell_type": "code",
   "execution_count": 68,
   "metadata": {
    "collapsed": true
   },
   "outputs": [],
   "source": [
    "ngram_ranges = [(2,2),(3,3),(1,3)]"
   ]
  },
  {
   "cell_type": "code",
   "execution_count": 69,
   "metadata": {
    "collapsed": true
   },
   "outputs": [],
   "source": [
    "pipeline_ngrams = [Pipeline([('cv', CountVectorizer(ngram_range=i)), ('logistic_reg', LogisticRegression())]) for i in ngram_ranges]\n",
    "cv_ngrams = []\n",
    "for pip in pipeline_ngrams:\n",
    "    cv_ngrams.append(cross_val_score(pip, X=msgs, y=classes, cv = 10, scoring='f1'))"
   ]
  },
  {
   "cell_type": "code",
   "execution_count": 73,
   "metadata": {
    "collapsed": false
   },
   "outputs": [
    {
     "name": "stdout",
     "output_type": "stream",
     "text": [
      "[0.82242206641871329, 0.72501615554673771, 0.92513825586488374]\n"
     ]
    }
   ],
   "source": [
    "cv_ngrams_means = [i.mean() for i in cv_ngrams]\n",
    "print cv_ngrams_means\n",
    "write('third.txt', ' '.join([('%.2lf')%i for i in cv_ngrams_means]))"
   ]
  },
  {
   "cell_type": "code",
   "execution_count": 74,
   "metadata": {
    "collapsed": true
   },
   "outputs": [],
   "source": [
    "from sklearn.naive_bayes import MultinomialNB"
   ]
  },
  {
   "cell_type": "code",
   "execution_count": 79,
   "metadata": {
    "collapsed": false
   },
   "outputs": [],
   "source": [
    "Xs = [CountVectorizer(ngram_range=i).fit_transform(msgs) for i in ngram_ranges]"
   ]
  },
  {
   "cell_type": "code",
   "execution_count": 80,
   "metadata": {
    "collapsed": false
   },
   "outputs": [],
   "source": [
    "modelsNB = [MultinomialNB().fit(X,classes) for X in Xs]"
   ]
  },
  {
   "cell_type": "code",
   "execution_count": 83,
   "metadata": {
    "collapsed": false
   },
   "outputs": [],
   "source": [
    "cv_ngramsNB = []\n",
    "for X in Xs:\n",
    "    cv_ngramsNB.append(cross_val_score(MultinomialNB(), X=X, y=classes, cv = 10, scoring='f1'))"
   ]
  },
  {
   "cell_type": "code",
   "execution_count": 85,
   "metadata": {
    "collapsed": false
   },
   "outputs": [
    {
     "name": "stdout",
     "output_type": "stream",
     "text": [
      "[0.64545540135589818, 0.37862343087618666, 0.88790546088949929]\n"
     ]
    }
   ],
   "source": [
    "cv_ngrams_meansNB = [i.mean() for i in cv_ngramsNB]\n",
    "print cv_ngrams_meansNB\n",
    "write('fourth.txt', ' '.join([('%.2lf')%i for i in cv_ngrams_meansNB]))"
   ]
  }
 ],
 "metadata": {
  "anaconda-cloud": {},
  "kernelspec": {
   "display_name": "Python [default]",
   "language": "python",
   "name": "python2"
  },
  "language_info": {
   "codemirror_mode": {
    "name": "ipython",
    "version": 2
   },
   "file_extension": ".py",
   "mimetype": "text/x-python",
   "name": "python",
   "nbconvert_exporter": "python",
   "pygments_lexer": "ipython2",
   "version": "2.7.12"
  }
 },
 "nbformat": 4,
 "nbformat_minor": 1
}
